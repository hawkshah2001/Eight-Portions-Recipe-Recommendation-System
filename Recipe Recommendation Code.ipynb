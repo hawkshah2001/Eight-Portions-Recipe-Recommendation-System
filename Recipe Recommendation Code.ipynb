{
 "cells": [
  {
   "cell_type": "code",
   "execution_count": 1,
   "metadata": {},
   "outputs": [],
   "source": [
    "import pandas as pd\n",
    "import numpy as np\n",
    "import nltk\n",
    "from nltk.corpus import stopwords\n",
    "import spacy\n",
    "from sklearn.metrics.pairwise import cosine_similarity\n"
   ]
  },
  {
   "cell_type": "code",
   "execution_count": 2,
   "metadata": {},
   "outputs": [],
   "source": [
    "recipe_df = pd.read_json(\"C:/Users/16613/OneDrive/Desktop/Bana 275 NLP/recipes_raw/recipes_raw_nosource_ar.json\", orient=\"index\")"
   ]
  },
  {
   "cell_type": "code",
   "execution_count": 3,
   "metadata": {},
   "outputs": [],
   "source": [
    "#function to turn lists into strings\n",
    "def list_to_string(list):\n",
    "    return ', '.join(list)\n",
    "\n",
    "#apply function to ingredients column\n",
    "recipe_df['ingredients'] = recipe_df['ingredients'].apply(list_to_string)\n"
   ]
  },
  {
   "cell_type": "code",
   "execution_count": 4,
   "metadata": {},
   "outputs": [],
   "source": [
    "# combine the title, ingredients, and instructions into one string\n",
    "recipe_df['all_text'] = recipe_df['title'] + ' ' + recipe_df['ingredients'] + ' ' + recipe_df['instructions']"
   ]
  },
  {
   "cell_type": "code",
   "execution_count": 5,
   "metadata": {},
   "outputs": [],
   "source": [
    "recipe_df.insert(1, \"id\", list(range(1, len(recipe_df)+ 1)), True)"
   ]
  },
  {
   "cell_type": "code",
   "execution_count": 6,
   "metadata": {},
   "outputs": [
    {
     "data": {
      "text/html": [
       "<div>\n",
       "<style scoped>\n",
       "    .dataframe tbody tr th:only-of-type {\n",
       "        vertical-align: middle;\n",
       "    }\n",
       "\n",
       "    .dataframe tbody tr th {\n",
       "        vertical-align: top;\n",
       "    }\n",
       "\n",
       "    .dataframe thead th {\n",
       "        text-align: right;\n",
       "    }\n",
       "</style>\n",
       "<table border=\"1\" class=\"dataframe\">\n",
       "  <thead>\n",
       "    <tr style=\"text-align: right;\">\n",
       "      <th></th>\n",
       "      <th>title</th>\n",
       "      <th>id</th>\n",
       "      <th>ingredients</th>\n",
       "      <th>instructions</th>\n",
       "      <th>picture_link</th>\n",
       "      <th>all_text</th>\n",
       "    </tr>\n",
       "  </thead>\n",
       "  <tbody>\n",
       "    <tr>\n",
       "      <th>rmK12Uau.ntP510KeImX506H6Mr6jTu</th>\n",
       "      <td>Slow Cooker Chicken and Dumplings</td>\n",
       "      <td>1</td>\n",
       "      <td>4 skinless, boneless chicken breast halves ADV...</td>\n",
       "      <td>Place the chicken, butter, soup, and onion in ...</td>\n",
       "      <td>55lznCYBbs2mT8BTx6BTkLhynGHzM.S</td>\n",
       "      <td>Slow Cooker Chicken and Dumplings 4 skinless, ...</td>\n",
       "    </tr>\n",
       "    <tr>\n",
       "      <th>5ZpZE8hSVdPk2ZXo1mZTyoPWJRSCPSm</th>\n",
       "      <td>Awesome Slow Cooker Pot Roast</td>\n",
       "      <td>2</td>\n",
       "      <td>2 (10.75 ounce) cans condensed cream of mushro...</td>\n",
       "      <td>In a slow cooker, mix cream of mushroom soup, ...</td>\n",
       "      <td>QyrvGdGNMBA2lDdciY0FjKu.77MM0Oe</td>\n",
       "      <td>Awesome Slow Cooker Pot Roast 2 (10.75 ounce) ...</td>\n",
       "    </tr>\n",
       "    <tr>\n",
       "      <th>clyYQv.CplpwJtjNaFGhx0VilNYqRxu</th>\n",
       "      <td>Brown Sugar Meatloaf</td>\n",
       "      <td>3</td>\n",
       "      <td>1/2 cup packed brown sugar ADVERTISEMENT, 1/2 ...</td>\n",
       "      <td>Preheat oven to 350 degrees F (175 degrees C)....</td>\n",
       "      <td>LVW1DI0vtlCrpAhNSEQysE9i/7rJG56</td>\n",
       "      <td>Brown Sugar Meatloaf 1/2 cup packed brown suga...</td>\n",
       "    </tr>\n",
       "    <tr>\n",
       "      <th>BmqFAmCrDHiKNwX.IQzb0U/v0mLlxFu</th>\n",
       "      <td>Best Chocolate Chip Cookies</td>\n",
       "      <td>4</td>\n",
       "      <td>1 cup butter, softened ADVERTISEMENT, 1 cup wh...</td>\n",
       "      <td>Preheat oven to 350 degrees F (175 degrees C)....</td>\n",
       "      <td>0SO5kdWOV94j6EfAVwMMYRM3yNN8eRi</td>\n",
       "      <td>Best Chocolate Chip Cookies 1 cup butter, soft...</td>\n",
       "    </tr>\n",
       "    <tr>\n",
       "      <th>N.jCksRjB4MFwbgPFQU8Kg.yF.XCtOi</th>\n",
       "      <td>Homemade Mac and Cheese Casserole</td>\n",
       "      <td>5</td>\n",
       "      <td>8 ounces whole wheat rotini pasta ADVERTISEMEN...</td>\n",
       "      <td>Preheat oven to 350 degrees F. Line a 2-quart ...</td>\n",
       "      <td>YCnbhplMgiraW4rUXcybgSEZinSgljm</td>\n",
       "      <td>Homemade Mac and Cheese Casserole 8 ounces who...</td>\n",
       "    </tr>\n",
       "  </tbody>\n",
       "</table>\n",
       "</div>"
      ],
      "text/plain": [
       "                                                             title  id  \\\n",
       "rmK12Uau.ntP510KeImX506H6Mr6jTu  Slow Cooker Chicken and Dumplings   1   \n",
       "5ZpZE8hSVdPk2ZXo1mZTyoPWJRSCPSm      Awesome Slow Cooker Pot Roast   2   \n",
       "clyYQv.CplpwJtjNaFGhx0VilNYqRxu               Brown Sugar Meatloaf   3   \n",
       "BmqFAmCrDHiKNwX.IQzb0U/v0mLlxFu        Best Chocolate Chip Cookies   4   \n",
       "N.jCksRjB4MFwbgPFQU8Kg.yF.XCtOi  Homemade Mac and Cheese Casserole   5   \n",
       "\n",
       "                                                                       ingredients  \\\n",
       "rmK12Uau.ntP510KeImX506H6Mr6jTu  4 skinless, boneless chicken breast halves ADV...   \n",
       "5ZpZE8hSVdPk2ZXo1mZTyoPWJRSCPSm  2 (10.75 ounce) cans condensed cream of mushro...   \n",
       "clyYQv.CplpwJtjNaFGhx0VilNYqRxu  1/2 cup packed brown sugar ADVERTISEMENT, 1/2 ...   \n",
       "BmqFAmCrDHiKNwX.IQzb0U/v0mLlxFu  1 cup butter, softened ADVERTISEMENT, 1 cup wh...   \n",
       "N.jCksRjB4MFwbgPFQU8Kg.yF.XCtOi  8 ounces whole wheat rotini pasta ADVERTISEMEN...   \n",
       "\n",
       "                                                                      instructions  \\\n",
       "rmK12Uau.ntP510KeImX506H6Mr6jTu  Place the chicken, butter, soup, and onion in ...   \n",
       "5ZpZE8hSVdPk2ZXo1mZTyoPWJRSCPSm  In a slow cooker, mix cream of mushroom soup, ...   \n",
       "clyYQv.CplpwJtjNaFGhx0VilNYqRxu  Preheat oven to 350 degrees F (175 degrees C)....   \n",
       "BmqFAmCrDHiKNwX.IQzb0U/v0mLlxFu  Preheat oven to 350 degrees F (175 degrees C)....   \n",
       "N.jCksRjB4MFwbgPFQU8Kg.yF.XCtOi  Preheat oven to 350 degrees F. Line a 2-quart ...   \n",
       "\n",
       "                                                    picture_link  \\\n",
       "rmK12Uau.ntP510KeImX506H6Mr6jTu  55lznCYBbs2mT8BTx6BTkLhynGHzM.S   \n",
       "5ZpZE8hSVdPk2ZXo1mZTyoPWJRSCPSm  QyrvGdGNMBA2lDdciY0FjKu.77MM0Oe   \n",
       "clyYQv.CplpwJtjNaFGhx0VilNYqRxu  LVW1DI0vtlCrpAhNSEQysE9i/7rJG56   \n",
       "BmqFAmCrDHiKNwX.IQzb0U/v0mLlxFu  0SO5kdWOV94j6EfAVwMMYRM3yNN8eRi   \n",
       "N.jCksRjB4MFwbgPFQU8Kg.yF.XCtOi  YCnbhplMgiraW4rUXcybgSEZinSgljm   \n",
       "\n",
       "                                                                          all_text  \n",
       "rmK12Uau.ntP510KeImX506H6Mr6jTu  Slow Cooker Chicken and Dumplings 4 skinless, ...  \n",
       "5ZpZE8hSVdPk2ZXo1mZTyoPWJRSCPSm  Awesome Slow Cooker Pot Roast 2 (10.75 ounce) ...  \n",
       "clyYQv.CplpwJtjNaFGhx0VilNYqRxu  Brown Sugar Meatloaf 1/2 cup packed brown suga...  \n",
       "BmqFAmCrDHiKNwX.IQzb0U/v0mLlxFu  Best Chocolate Chip Cookies 1 cup butter, soft...  \n",
       "N.jCksRjB4MFwbgPFQU8Kg.yF.XCtOi  Homemade Mac and Cheese Casserole 8 ounces who...  "
      ]
     },
     "execution_count": 6,
     "metadata": {},
     "output_type": "execute_result"
    }
   ],
   "source": [
    "recipe_df.head()"
   ]
  },
  {
   "cell_type": "code",
   "execution_count": 7,
   "metadata": {},
   "outputs": [
    {
     "data": {
      "text/html": [
       "<div>\n",
       "<style scoped>\n",
       "    .dataframe tbody tr th:only-of-type {\n",
       "        vertical-align: middle;\n",
       "    }\n",
       "\n",
       "    .dataframe tbody tr th {\n",
       "        vertical-align: top;\n",
       "    }\n",
       "\n",
       "    .dataframe thead th {\n",
       "        text-align: right;\n",
       "    }\n",
       "</style>\n",
       "<table border=\"1\" class=\"dataframe\">\n",
       "  <thead>\n",
       "    <tr style=\"text-align: right;\">\n",
       "      <th></th>\n",
       "      <th>id</th>\n",
       "      <th>title</th>\n",
       "      <th>all_text</th>\n",
       "    </tr>\n",
       "  </thead>\n",
       "  <tbody>\n",
       "    <tr>\n",
       "      <th>rmK12Uau.ntP510KeImX506H6Mr6jTu</th>\n",
       "      <td>1</td>\n",
       "      <td>Slow Cooker Chicken and Dumplings</td>\n",
       "      <td>Slow Cooker Chicken and Dumplings 4 skinless, ...</td>\n",
       "    </tr>\n",
       "  </tbody>\n",
       "</table>\n",
       "</div>"
      ],
      "text/plain": [
       "                                 id                              title  \\\n",
       "rmK12Uau.ntP510KeImX506H6Mr6jTu   1  Slow Cooker Chicken and Dumplings   \n",
       "\n",
       "                                                                          all_text  \n",
       "rmK12Uau.ntP510KeImX506H6Mr6jTu  Slow Cooker Chicken and Dumplings 4 skinless, ...  "
      ]
     },
     "execution_count": 7,
     "metadata": {},
     "output_type": "execute_result"
    }
   ],
   "source": [
    "recipe_new = recipe_df[['id', 'title', 'all_text']]\n",
    "recipe_new.head(1)"
   ]
  },
  {
   "cell_type": "code",
   "execution_count": 8,
   "metadata": {},
   "outputs": [
    {
     "data": {
      "text/html": [
       "<div>\n",
       "<style scoped>\n",
       "    .dataframe tbody tr th:only-of-type {\n",
       "        vertical-align: middle;\n",
       "    }\n",
       "\n",
       "    .dataframe tbody tr th {\n",
       "        vertical-align: top;\n",
       "    }\n",
       "\n",
       "    .dataframe thead th {\n",
       "        text-align: right;\n",
       "    }\n",
       "</style>\n",
       "<table border=\"1\" class=\"dataframe\">\n",
       "  <thead>\n",
       "    <tr style=\"text-align: right;\">\n",
       "      <th></th>\n",
       "      <th>id</th>\n",
       "      <th>title</th>\n",
       "      <th>all_text</th>\n",
       "    </tr>\n",
       "  </thead>\n",
       "  <tbody>\n",
       "    <tr>\n",
       "      <th>0</th>\n",
       "      <td>1</td>\n",
       "      <td>Slow Cooker Chicken and Dumplings</td>\n",
       "      <td>Slow Cooker Chicken and Dumplings 4 skinless, ...</td>\n",
       "    </tr>\n",
       "  </tbody>\n",
       "</table>\n",
       "</div>"
      ],
      "text/plain": [
       "   id                              title  \\\n",
       "0   1  Slow Cooker Chicken and Dumplings   \n",
       "\n",
       "                                            all_text  \n",
       "0  Slow Cooker Chicken and Dumplings 4 skinless, ...  "
      ]
     },
     "execution_count": 8,
     "metadata": {},
     "output_type": "execute_result"
    }
   ],
   "source": [
    "recipe_new.set_index(pd.Series(range(0, len(recipe_new))), inplace=True)\n",
    "recipe_new.head(1)"
   ]
  },
  {
   "cell_type": "code",
   "execution_count": 9,
   "metadata": {},
   "outputs": [],
   "source": [
    "#nltk.download('stopwords')\n",
    "stop = stopwords.words('english')\n",
    "stop.append('advertisement')\n",
    "stop.append('want')"
   ]
  },
  {
   "cell_type": "code",
   "execution_count": 10,
   "metadata": {},
   "outputs": [],
   "source": [
    "def text_preprocessing(column):\n",
    "    #make all words with lower letters\n",
    "    column = column.str.lower()\n",
    "    #getting rid of any punctution\n",
    "    column = column.str.replace(\"[^\\w\\s]\", '', regex=True)\n",
    "    # Getting rid of numbers\n",
    "    column = column.str.replace('\\d+', '', regex=True)\n",
    "    #spliting each sentence to words to apply previous funtions on them \n",
    "    word_tokens = column.str.split()\n",
    "    keywords = word_tokens.apply(lambda x: [item for item in x if item not in stop])\n",
    "    #assemble words of each sentence again and assign them in new column\n",
    "    for i in range(len(keywords)):\n",
    "        keywords[i] = \" \".join(keywords[i])\n",
    "        column = keywords\n",
    "\n",
    "    return column"
   ]
  },
  {
   "cell_type": "code",
   "execution_count": 11,
   "metadata": {},
   "outputs": [
    {
     "name": "stderr",
     "output_type": "stream",
     "text": [
      "C:\\Users\\16613\\AppData\\Local\\Temp\\ipykernel_24036\\3195812746.py:1: SettingWithCopyWarning: \n",
      "A value is trying to be set on a copy of a slice from a DataFrame.\n",
      "Try using .loc[row_indexer,col_indexer] = value instead\n",
      "\n",
      "See the caveats in the documentation: https://pandas.pydata.org/pandas-docs/stable/user_guide/indexing.html#returning-a-view-versus-a-copy\n",
      "  recipe_new['cleaned_text'] = text_preprocessing(recipe_new['all_text'])\n"
     ]
    },
    {
     "data": {
      "text/plain": [
       "'homemade mac cheese casserole ounces whole wheat rotini pasta cups fresh broccoli florets medium onion chopped cloves garlic minced tablespoons butter divided tablespoons allpurpose flour teaspoon salt teaspoon ground black pepper cups milk ounces cheddar cheese shredded ounces reducedfat cream cheese cubed softened cup fine dry italianseasoned bread crumbs reynolds wrap non stick aluminum foil preheat oven degrees f line quart casserole dish reynolds wrapr pan lining paper parchment side need grease dish cook pasta large saucepan according package directions adding broccoli last minutes cooking drain return saucepan set aside cook onion garlic tablespoons hot butter large skillet minutes tender stir flour salt black pepper add milk cook stir medium heat slightly thickened bubbly add cheddar cheese cream cheese stirring melted pour cheese sauce pasta broccoli stir well combined melt remaining tablespoons butter mix bread crumbs small bowl transfer pasta mixture prepared casserole dish top buttery bread crumbs bake uncovered minutes bubbly internal temperature degrees f let stand minutes serving'"
      ]
     },
     "execution_count": 11,
     "metadata": {},
     "output_type": "execute_result"
    }
   ],
   "source": [
    "recipe_new['cleaned_text'] = text_preprocessing(recipe_new['all_text'])\n",
    "recipe_new['cleaned_text'][4]"
   ]
  },
  {
   "cell_type": "code",
   "execution_count": 12,
   "metadata": {},
   "outputs": [],
   "source": [
    "from sklearn.feature_extraction.text import CountVectorizer\n",
    "from sklearn.metrics.pairwise import cosine_similarity\n",
    "\n",
    "CV = CountVectorizer()\n",
    "converted_matrix = CV.fit_transform(recipe_new['cleaned_text'])"
   ]
  },
  {
   "cell_type": "code",
   "execution_count": 20,
   "metadata": {},
   "outputs": [
    {
     "name": "stderr",
     "output_type": "stream",
     "text": [
      "C:\\Users\\16613\\AppData\\Local\\Temp\\ipykernel_24036\\3381453462.py:5: SettingWithCopyWarning: \n",
      "A value is trying to be set on a copy of a slice from a DataFrame.\n",
      "Try using .loc[row_indexer,col_indexer] = value instead\n",
      "\n",
      "See the caveats in the documentation: https://pandas.pydata.org/pandas-docs/stable/user_guide/indexing.html#returning-a-view-versus-a-copy\n",
      "  recipe_new['cosine_sim'] = cosine_sim\n"
     ]
    },
    {
     "data": {
      "text/html": [
       "<div>\n",
       "<style scoped>\n",
       "    .dataframe tbody tr th:only-of-type {\n",
       "        vertical-align: middle;\n",
       "    }\n",
       "\n",
       "    .dataframe tbody tr th {\n",
       "        vertical-align: top;\n",
       "    }\n",
       "\n",
       "    .dataframe thead th {\n",
       "        text-align: right;\n",
       "    }\n",
       "</style>\n",
       "<table border=\"1\" class=\"dataframe\">\n",
       "  <thead>\n",
       "    <tr style=\"text-align: right;\">\n",
       "      <th></th>\n",
       "      <th>id</th>\n",
       "      <th>title</th>\n",
       "      <th>cleaned_text</th>\n",
       "      <th>cosine_sim</th>\n",
       "    </tr>\n",
       "  </thead>\n",
       "  <tbody>\n",
       "    <tr>\n",
       "      <th>22153</th>\n",
       "      <td>22154</td>\n",
       "      <td>Balsamic Marinated Flank Steak</td>\n",
       "      <td>balsamic marinated flank steak pound beef flank steak salt black pepper balsamic marinade cup balsamic vinegar tablespoons olive oil tablespoon chopped fresh basil teaspoons dijonstyle mustard clove garlic minced teaspoon sugar combine marinade ingredients small bowl place beef steak marinade foodsafe plastic bag turn steak coat close bag securely marinate refrigerator hours long overnight turning occasionally remove steak marinade discard marinade place steak grid medium ashcovered coals grill covered minutes medium heat preheated gas grill minutes medium rare degrees f medium degrees f doneness turning occasionally season steak salt pepper desired carve steak crosswise thin slices</td>\n",
       "      <td>0.552052</td>\n",
       "    </tr>\n",
       "    <tr>\n",
       "      <th>36749</th>\n",
       "      <td>36750</td>\n",
       "      <td>Reverse Sear Skillet-Grilled Steak Done Right!</td>\n",
       "      <td>reverse sear skilletgrilled steak done right ounce inch thick rib eye steak thawed cup unsalted butter melted tablespoons steak sauce tablespoon grated garlic salt ground black pepper taste place steak butter steak sauce garlic salt black pepper large resealable plastic bag shake marinade wellmixed seal plastic bag way keep one small corner open one end fill deep baking pan warm water submerge plastic bag water slowly allowing pressure water push air mold bag around steak seal bag completely let sit water hours preheat oven degrees f degrees c pour water baking pan line pan aluminum foil remove steak bag place pan pour marinade around steak gather sides aluminum foil tight ball around steak bake preheated oven instantread thermometer inserted center reads degrees f degrees c medium minutes remove steak oven uncover season sides generously salt black pepper allow steak rest preheat outdoor grill high heat place cast iron skillet grill heat degrees f degrees c cook steak hot skillet forms crust instantread thermometer inserted center reads degrees f degrees c medium minute per side</td>\n",
       "      <td>0.535586</td>\n",
       "    </tr>\n",
       "    <tr>\n",
       "      <th>24632</th>\n",
       "      <td>24633</td>\n",
       "      <td>Ranch-Style Fajitas</td>\n",
       "      <td>ranchstyle fajitas pound beef flank steak cup vegetable oil tablespoons lime juice ounce package ranch dressing mix teaspoon ground cumin teaspoon ground black pepper inch flour tortillas onion sliced green bell pepper sliced pierce flank steak fork place large resealable plastic zipper bag mix vegetable oil lime juice ranch dressing mix cumin black pepper bowl pour flank steak force air bag seal refrigerate least hours preheat outdoor grill mediumhigh heat lightly oil grate remove flank steak marinade shake remove excess marinade grill steak shows good grill marks inside desired degree doneness minutes baste side marinade taking care cook marinade onto outside steak instantread thermometer inserted middle steak read degrees f degrees c mediumrare allow steak rest minutes slicing thinly diagonal steak resting grill onion green pepper slices starting brown minutes per side serve wrap sliced steak grilled onion green pepper tortillas</td>\n",
       "      <td>0.535288</td>\n",
       "    </tr>\n",
       "    <tr>\n",
       "      <th>31012</th>\n",
       "      <td>31013</td>\n",
       "      <td>Grilled Steak &amp; Summer Vegetable Rice</td>\n",
       "      <td>grilled steak summer vegetable rice tablespoons olive oil tablespoon fresh herbs rosemary thyme andor basil pounds beef flank steak boneless sirloin steak cups chopped assorted vegetables pepper zucchini andor onion ounce package knorr rice sides cheddar broccoli blend tbsp oil herbs small bowl brush steak herb mixture grill broil steak turning steak desired doneness let steak stand minutes slicing heat remaining tbsp oil large skillet cook vegetables crisp tender minutes add cups water vegetables skillet along knorrr rice sidestm cheddar broccoli bring boil stir reduce heat simmer covered minutes rice tender serve steak vegetables knorrr rice sidestm cheddar broccoli</td>\n",
       "      <td>0.528655</td>\n",
       "    </tr>\n",
       "    <tr>\n",
       "      <th>4728</th>\n",
       "      <td>4729</td>\n",
       "      <td>Rolled Flank Steak</td>\n",
       "      <td>rolled flank steak pound beef flank steak cup soy sauce cup olive oil teaspoons steak seasoning ounces thinly sliced provolone cheese slices thick cut bacon cup fresh spinach leaves cup sliced crimini mushrooms red bell pepper seeded cut strips place flank steak cutting board short end closest starting one long sides cut meat horizontally within inch opposite edge also ask butcher butterfly flank steak instead cutting mix soy sauce olive oil steak seasoning together gallonsized resealable plastic bag marinate flank steak refrigerator hours overnight preheat oven degrees f degrees c grease glass baking dish lay flank steak flat front grain meat running left right layer provolone across steak leaving inch border arrange bacon spinach red pepper mushrooms across cheese covered steak stripes running direction grain meat roll flank steak away roll cut pinwheel shape filling ingredients seen roll firmly careful squeeze fillings ends rolled tie every inches kitchen twine place prepared baking dish bake preheated oven one hour internal temperature reaches degrees f degrees c remove oven let rest minutes cutting inch slices sure remove twine serving</td>\n",
       "      <td>0.525001</td>\n",
       "    </tr>\n",
       "    <tr>\n",
       "      <th>29429</th>\n",
       "      <td>29430</td>\n",
       "      <td>Drunken Flat Iron Steak</td>\n",
       "      <td>drunken flat iron steak pound flat iron steak cup dry vermouth cup sweet vermouth tablespoons olive oil tablespoon red pepper flakes place steak large resealable bag shallow dish pour dry vermouth sweet vermouth stir coat steak seal cover refrigerate hours marinate heat oil large skillet medium heat remove steak bag discard marinade season steak sides red pepper flakes fry minutes per side mediumrare desired degree doneness let rest minutes serving</td>\n",
       "      <td>0.510754</td>\n",
       "    </tr>\n",
       "    <tr>\n",
       "      <th>24116</th>\n",
       "      <td>24117</td>\n",
       "      <td>Mango Salsa Steak Fajitas</td>\n",
       "      <td>mango salsa steak fajitas tacos tablespoon vegetable oil ounce package old el paso taco seasoning mix pound flank steak trimmed excess fat inch old el paso flour tortillas soft tacos fajitas mango salsa ripe medium mangoes seed removed peeled diced juice medium lime jalapeno chile seeded chopped cup chopped red onion cup chopped fresh cilantro leaves heat oven degrees f line cookie sheet foil inch skillet heat oil high heat sprinkle taco seasoning mix flank steak pressing coat brown steak oil sides place steak cookie sheet roast meat thermometer inserted center steak reads degrees f remove oven let rest minutes meanwhile large bowl mix salsa ingredients refrigerate ready serve cut steak thin slices place slices steak tortilla top salsa roll tortillas</td>\n",
       "      <td>0.506979</td>\n",
       "    </tr>\n",
       "    <tr>\n",
       "      <th>30413</th>\n",
       "      <td>30414</td>\n",
       "      <td>Grilled Steak Wraps</td>\n",
       "      <td>grilled steak wraps ounces sirloin steak top loin steak salt ground black pepper taste plums olive oil brush ounce package dole natural spinach cherry almond bleu salad kit dole red onion sliced thinly crescents inch multigrain wraps tortillas season steak salt pepper taste grill steak desired doneness cover let stand minutes thinly slice steak cut plums half remove seed slice horizontally slices brush oil grill side tender cool slightly cut chunks combine ingredients salad except white balsamic vinaigrette large bowl add plums onion toss well toss dressing microwave wraps seconds soften divide salad mixture sliced steak among wraps roll</td>\n",
       "      <td>0.506502</td>\n",
       "    </tr>\n",
       "    <tr>\n",
       "      <th>35668</th>\n",
       "      <td>35669</td>\n",
       "      <td>Soft Steak (Marinated Skirt Steak with Bleu Cheese)</td>\n",
       "      <td>soft steak marinated skirt steak bleu cheese cup hoisin sauce cup brown sugar tablespoons rice vinegar tablespoon diced garlic tablespoon sweet chilli sauce mae ploy teaspoons minced fresh ginger root pound beef skirt steak cup crumbled blue cheese whisk hoisin sauce brown sugar rice vinegar garlic chili sauce ginger together bowl marinade smooth pour resealable plastic bag add skirt steak coat marinade squeeze excess air seal bag marinate refrigerator least hours remove steak marinade shake excess discard remaining marinade preheat outdoor grill mediumhigh heat lightly oil grate cook steak starts firm reddishpink juicy center minutes per side sprinkle blue cheese steak cook cheese starts melt minutes instantread thermometer inserted center steak read degrees f degrees c</td>\n",
       "      <td>0.505964</td>\n",
       "    </tr>\n",
       "    <tr>\n",
       "      <th>23247</th>\n",
       "      <td>23248</td>\n",
       "      <td>Sloppied Flank Steak Sandwiches</td>\n",
       "      <td>sloppied flank steak sandwiches pounds beef flank steak tablespoon steak seasoning montreal steak seasoning tablespoon olive oil cup brown sugar small onion chopped small red bell pepper chopped tablespoon apple cider vinegar tablespoon worcestershire sauce cups tomato sauce tablespoons tomato paste hamburger buns split toasted sprinkle beef flank steak steak seasoning sides heat olive oil skillet medium heat oil shimmers place flank steak hot oil quickly brown steak sides minutes per side set beef aside stir brown sugar onion red bell pepper apple cider vinegar worcestershire sauce tomato sauce tomato paste together slow cooker brown sugar dissolves place flank steak slow cooker immersing sauce set cooker high cook hours set low cook hours serve shred meat forks remove meat chop return sauce toast buns serve sloppied steak toasted buns</td>\n",
       "      <td>0.501886</td>\n",
       "    </tr>\n",
       "  </tbody>\n",
       "</table>\n",
       "</div>"
      ],
      "text/plain": [
       "          id                                                title  \\\n",
       "22153  22154                       Balsamic Marinated Flank Steak   \n",
       "36749  36750       Reverse Sear Skillet-Grilled Steak Done Right!   \n",
       "24632  24633                                  Ranch-Style Fajitas   \n",
       "31012  31013                Grilled Steak & Summer Vegetable Rice   \n",
       "4728    4729                                   Rolled Flank Steak   \n",
       "29429  29430                              Drunken Flat Iron Steak   \n",
       "24116  24117                            Mango Salsa Steak Fajitas   \n",
       "30413  30414                                  Grilled Steak Wraps   \n",
       "35668  35669  Soft Steak (Marinated Skirt Steak with Bleu Cheese)   \n",
       "23247  23248                      Sloppied Flank Steak Sandwiches   \n",
       "\n",
       "                                                                                                                                                                                                                                                                                                                                                                                                                                                                                                                                                                                                                                                                                                                                                                                                                                                                                                                                                                                                                                                                                                                                                                                                 cleaned_text  \\\n",
       "22153                                                                                                                                                                                                                                                                                                                                                                                                                                                                                     balsamic marinated flank steak pound beef flank steak salt black pepper balsamic marinade cup balsamic vinegar tablespoons olive oil tablespoon chopped fresh basil teaspoons dijonstyle mustard clove garlic minced teaspoon sugar combine marinade ingredients small bowl place beef steak marinade foodsafe plastic bag turn steak coat close bag securely marinate refrigerator hours long overnight turning occasionally remove steak marinade discard marinade place steak grid medium ashcovered coals grill covered minutes medium heat preheated gas grill minutes medium rare degrees f medium degrees f doneness turning occasionally season steak salt pepper desired carve steak crosswise thin slices   \n",
       "36749                                                                reverse sear skilletgrilled steak done right ounce inch thick rib eye steak thawed cup unsalted butter melted tablespoons steak sauce tablespoon grated garlic salt ground black pepper taste place steak butter steak sauce garlic salt black pepper large resealable plastic bag shake marinade wellmixed seal plastic bag way keep one small corner open one end fill deep baking pan warm water submerge plastic bag water slowly allowing pressure water push air mold bag around steak seal bag completely let sit water hours preheat oven degrees f degrees c pour water baking pan line pan aluminum foil remove steak bag place pan pour marinade around steak gather sides aluminum foil tight ball around steak bake preheated oven instantread thermometer inserted center reads degrees f degrees c medium minutes remove steak oven uncover season sides generously salt black pepper allow steak rest preheat outdoor grill high heat place cast iron skillet grill heat degrees f degrees c cook steak hot skillet forms crust instantread thermometer inserted center reads degrees f degrees c medium minute per side   \n",
       "24632                                                                                                                                                                                                                       ranchstyle fajitas pound beef flank steak cup vegetable oil tablespoons lime juice ounce package ranch dressing mix teaspoon ground cumin teaspoon ground black pepper inch flour tortillas onion sliced green bell pepper sliced pierce flank steak fork place large resealable plastic zipper bag mix vegetable oil lime juice ranch dressing mix cumin black pepper bowl pour flank steak force air bag seal refrigerate least hours preheat outdoor grill mediumhigh heat lightly oil grate remove flank steak marinade shake remove excess marinade grill steak shows good grill marks inside desired degree doneness minutes baste side marinade taking care cook marinade onto outside steak instantread thermometer inserted middle steak read degrees f degrees c mediumrare allow steak rest minutes slicing thinly diagonal steak resting grill onion green pepper slices starting brown minutes per side serve wrap sliced steak grilled onion green pepper tortillas   \n",
       "31012                                                                                                                                                                                                                                                                                                                                                                                                                                                                                                    grilled steak summer vegetable rice tablespoons olive oil tablespoon fresh herbs rosemary thyme andor basil pounds beef flank steak boneless sirloin steak cups chopped assorted vegetables pepper zucchini andor onion ounce package knorr rice sides cheddar broccoli blend tbsp oil herbs small bowl brush steak herb mixture grill broil steak turning steak desired doneness let steak stand minutes slicing heat remaining tbsp oil large skillet cook vegetables crisp tender minutes add cups water vegetables skillet along knorrr rice sidestm cheddar broccoli bring boil stir reduce heat simmer covered minutes rice tender serve steak vegetables knorrr rice sidestm cheddar broccoli   \n",
       "4728   rolled flank steak pound beef flank steak cup soy sauce cup olive oil teaspoons steak seasoning ounces thinly sliced provolone cheese slices thick cut bacon cup fresh spinach leaves cup sliced crimini mushrooms red bell pepper seeded cut strips place flank steak cutting board short end closest starting one long sides cut meat horizontally within inch opposite edge also ask butcher butterfly flank steak instead cutting mix soy sauce olive oil steak seasoning together gallonsized resealable plastic bag marinate flank steak refrigerator hours overnight preheat oven degrees f degrees c grease glass baking dish lay flank steak flat front grain meat running left right layer provolone across steak leaving inch border arrange bacon spinach red pepper mushrooms across cheese covered steak stripes running direction grain meat roll flank steak away roll cut pinwheel shape filling ingredients seen roll firmly careful squeeze fillings ends rolled tie every inches kitchen twine place prepared baking dish bake preheated oven one hour internal temperature reaches degrees f degrees c remove oven let rest minutes cutting inch slices sure remove twine serving   \n",
       "29429                                                                                                                                                                                                                                                                                                                                                                                                                                                                                                                                                                                                                                                                                                                                    drunken flat iron steak pound flat iron steak cup dry vermouth cup sweet vermouth tablespoons olive oil tablespoon red pepper flakes place steak large resealable bag shallow dish pour dry vermouth sweet vermouth stir coat steak seal cover refrigerate hours marinate heat oil large skillet medium heat remove steak bag discard marinade season steak sides red pepper flakes fry minutes per side mediumrare desired degree doneness let rest minutes serving   \n",
       "24116                                                                                                                                                                                                                                                                                                                                                                                                                mango salsa steak fajitas tacos tablespoon vegetable oil ounce package old el paso taco seasoning mix pound flank steak trimmed excess fat inch old el paso flour tortillas soft tacos fajitas mango salsa ripe medium mangoes seed removed peeled diced juice medium lime jalapeno chile seeded chopped cup chopped red onion cup chopped fresh cilantro leaves heat oven degrees f line cookie sheet foil inch skillet heat oil high heat sprinkle taco seasoning mix flank steak pressing coat brown steak oil sides place steak cookie sheet roast meat thermometer inserted center steak reads degrees f remove oven let rest minutes meanwhile large bowl mix salsa ingredients refrigerate ready serve cut steak thin slices place slices steak tortilla top salsa roll tortillas   \n",
       "30413                                                                                                                                                                                                                                                                                                                                                                                                                                                                                                                                   grilled steak wraps ounces sirloin steak top loin steak salt ground black pepper taste plums olive oil brush ounce package dole natural spinach cherry almond bleu salad kit dole red onion sliced thinly crescents inch multigrain wraps tortillas season steak salt pepper taste grill steak desired doneness cover let stand minutes thinly slice steak cut plums half remove seed slice horizontally slices brush oil grill side tender cool slightly cut chunks combine ingredients salad except white balsamic vinaigrette large bowl add plums onion toss well toss dressing microwave wraps seconds soften divide salad mixture sliced steak among wraps roll   \n",
       "35668                                                                                                                                                                                                                                                                                                                                                                                           soft steak marinated skirt steak bleu cheese cup hoisin sauce cup brown sugar tablespoons rice vinegar tablespoon diced garlic tablespoon sweet chilli sauce mae ploy teaspoons minced fresh ginger root pound beef skirt steak cup crumbled blue cheese whisk hoisin sauce brown sugar rice vinegar garlic chili sauce ginger together bowl marinade smooth pour resealable plastic bag add skirt steak coat marinade squeeze excess air seal bag marinate refrigerator least hours remove steak marinade shake excess discard remaining marinade preheat outdoor grill mediumhigh heat lightly oil grate cook steak starts firm reddishpink juicy center minutes per side sprinkle blue cheese steak cook cheese starts melt minutes instantread thermometer inserted center steak read degrees f degrees c   \n",
       "23247                                                                                                                                                                                                                                                                                                                        sloppied flank steak sandwiches pounds beef flank steak tablespoon steak seasoning montreal steak seasoning tablespoon olive oil cup brown sugar small onion chopped small red bell pepper chopped tablespoon apple cider vinegar tablespoon worcestershire sauce cups tomato sauce tablespoons tomato paste hamburger buns split toasted sprinkle beef flank steak steak seasoning sides heat olive oil skillet medium heat oil shimmers place flank steak hot oil quickly brown steak sides minutes per side set beef aside stir brown sugar onion red bell pepper apple cider vinegar worcestershire sauce tomato sauce tomato paste together slow cooker brown sugar dissolves place flank steak slow cooker immersing sauce set cooker high cook hours set low cook hours serve shred meat forks remove meat chop return sauce toast buns serve sloppied steak toasted buns   \n",
       "\n",
       "       cosine_sim  \n",
       "22153    0.552052  \n",
       "36749    0.535586  \n",
       "24632    0.535288  \n",
       "31012    0.528655  \n",
       "4728     0.525001  \n",
       "29429    0.510754  \n",
       "24116    0.506979  \n",
       "30413    0.506502  \n",
       "35668    0.505964  \n",
       "23247    0.501886  "
      ]
     },
     "execution_count": 20,
     "metadata": {},
     "output_type": "execute_result"
    }
   ],
   "source": [
    "pd.set_option('display.max_colwidth', None)\n",
    "test = input(\"Please type ingredients you want recipes for\")\n",
    "test = CV.transform([test])\n",
    "cosine_sim = cosine_similarity(test, converted_matrix).flatten()\n",
    "recipe_new['cosine_sim'] = cosine_sim\n",
    "recipe_new.sort_values(by='cosine_sim', ascending=False)[['id', 'title', 'cleaned_text', 'cosine_sim']].head(10)\n",
    "#recipe_new.sort_values(by='cosine_sim', ascending=False).head(10)"
   ]
  },
  {
   "cell_type": "code",
   "execution_count": 14,
   "metadata": {},
   "outputs": [],
   "source": [
    "import wordcloud\n",
    "import matplotlib as plt"
   ]
  },
  {
   "cell_type": "code",
   "execution_count": 15,
   "metadata": {},
   "outputs": [
    {
     "data": {
      "image/png": "[encoded data removed]",
      "text/plain": [
       "<Figure size 640x480 with 1 Axes>"
      ]
     },
     "metadata": {},
     "output_type": "display_data"
    }
   ],
   "source": [
    "from wordcloud import WordCloud\n",
    "import matplotlib.pyplot as plt\n",
    "from PIL import Image\n",
    "import numpy as np\n",
    "\n",
    "# Load a mask image\n",
    "mask_image = np.array(Image.open(\"C:/Users/16613/OneDrive/Desktop/Bana 275 NLP/recipes_raw/Cartoon-chicken-on-transparent-background-PNG.png\"))\n",
    "\n",
    "# Start with one review:\n",
    "text = recipe_new.cleaned_text[0]\n",
    "\n",
    "# Create and generate a word cloud image with the mask\n",
    "wordcloud = WordCloud(background_color='white', contour_width= 5, max_font_size=50, mask=mask_image).generate(text)\n",
    "\n",
    "# Display the generated image\n",
    "plt.imshow(wordcloud, interpolation='bilinear')\n",
    "plt.axis('off')\n",
    "plt.show()\n"
   ]
  },
  {
   "cell_type": "code",
   "execution_count": 16,
   "metadata": {},
   "outputs": [
    {
     "data": {
      "text/html": [
       "<div>\n",
       "<style scoped>\n",
       "    .dataframe tbody tr th:only-of-type {\n",
       "        vertical-align: middle;\n",
       "    }\n",
       "\n",
       "    .dataframe tbody tr th {\n",
       "        vertical-align: top;\n",
       "    }\n",
       "\n",
       "    .dataframe thead th {\n",
       "        text-align: right;\n",
       "    }\n",
       "</style>\n",
       "<table border=\"1\" class=\"dataframe\">\n",
       "  <thead>\n",
       "    <tr style=\"text-align: right;\">\n",
       "      <th></th>\n",
       "      <th>suggestion</th>\n",
       "    </tr>\n",
       "  </thead>\n",
       "  <tbody>\n",
       "    <tr>\n",
       "      <th>0</th>\n",
       "      <td>I want pork, green beans, rice</td>\n",
       "    </tr>\n",
       "    <tr>\n",
       "      <th>1</th>\n",
       "      <td>I want tofu, asparagus, noodles</td>\n",
       "    </tr>\n",
       "    <tr>\n",
       "      <th>2</th>\n",
       "      <td>I want chicken, mushrooms, quinoa</td>\n",
       "    </tr>\n",
       "    <tr>\n",
       "      <th>3</th>\n",
       "      <td>I want salmon, cabbage, rice noodles</td>\n",
       "    </tr>\n",
       "    <tr>\n",
       "      <th>4</th>\n",
       "      <td>I want beef, carrots, rice</td>\n",
       "    </tr>\n",
       "  </tbody>\n",
       "</table>\n",
       "</div>"
      ],
      "text/plain": [
       "                              suggestion\n",
       "0         I want pork, green beans, rice\n",
       "1        I want tofu, asparagus, noodles\n",
       "2      I want chicken, mushrooms, quinoa\n",
       "3   I want salmon, cabbage, rice noodles\n",
       "4             I want beef, carrots, rice"
      ]
     },
     "execution_count": 16,
     "metadata": {},
     "output_type": "execute_result"
    }
   ],
   "source": [
    "test_df = pd.read_csv(\"C:/Users/16613/OneDrive/Desktop/Bana 275 NLP/recipes_raw/test_cases.csv\", header=None)\n",
    "test_df.head()\n",
    "\n",
    "test_df.set_index(pd.Series(range(0, len(test_df))), inplace=True)\n",
    "test_df.rename(columns={0: 'suggestion'}, inplace=True)\n",
    "#convert test df to a list\n",
    "test_df.head(5)"
   ]
  },
  {
   "cell_type": "code",
   "execution_count": 17,
   "metadata": {},
   "outputs": [],
   "source": [
    "test_df['suggestion_clean'] = text_preprocessing(test_df['suggestion'])"
   ]
  },
  {
   "cell_type": "code",
   "execution_count": 18,
   "metadata": {},
   "outputs": [
    {
     "name": "stdout",
     "output_type": "stream",
     "text": [
      "[['pork green beans rice', ['Green Beans', 'Grilled Green Beans', 'Grilled Fresh Green Beans', 'Honey Orange Green Beans', \"Lucy's Recuperation Food\"]], ['tofu asparagus noodles', ['Balsamic Vinegar Tofu and Asparagus Pasta Salad', 'Fast and Easy Tofu Lo-Mein', 'Vegan Lasagna I', 'Baked Tofu', 'Roasted Asparagus Salad with Feta Cheese']], ['chicken mushrooms quinoa', ['Chicken With Mushrooms', 'Balsamic Chicken Salad', 'Quinoa Chicken', 'Chicken Perkelt', 'Muenster Chicken and Mushrooms']], ['salmon cabbage rice noodles', ['Fried Cabbage and Egg Noodles', 'Smoked Salmon Sushi Roll', 'Salmon and Pesto with Rice', 'Transylvanian Cabbage and Noodles', 'Fried Cabbage and Noodles']], ['beef carrots rice', ['Confetti Rice with Carrot, Celery, and Almonds', \"Raven's Beef Stew\", 'Ground Beef and Rice with Cheese', 'Golompke (Beef and Cabbage Casserole)', 'Spicy American Spanish Rice']]]\n"
     ]
    }
   ],
   "source": [
    "test_results = []\n",
    "\n",
    "for test_rec in test_df['suggestion_clean']:\n",
    "\n",
    "    test_matrix = CV.transform([test_rec])\n",
    "    #calculate cosine similarity\n",
    "    cos_sim = cosine_similarity(test_matrix, converted_matrix).flatten()\n",
    "\n",
    "    cos_df = pd.DataFrame(cos_sim, columns=['cosine_sim'])\n",
    "    cos_df['title'] = recipe_new['title']\n",
    "\n",
    "    cos_df.sort_values(by='cosine_sim', ascending=False, inplace=True)\n",
    "    \n",
    "    similar_recipes = []\n",
    "    for i in range(0, 5):\n",
    "        similar_recipes.append(cos_df.nlargest(5, 'cosine_sim')['title'].iloc[i])\n",
    "    \n",
    "    test_results.append([test_rec, similar_recipes])\n",
    "\n",
    "print(test_results[0:5])"
   ]
  },
  {
   "cell_type": "code",
   "execution_count": 19,
   "metadata": {},
   "outputs": [
    {
     "data": {
      "text/html": [
       "<div>\n",
       "<style scoped>\n",
       "    .dataframe tbody tr th:only-of-type {\n",
       "        vertical-align: middle;\n",
       "    }\n",
       "\n",
       "    .dataframe tbody tr th {\n",
       "        vertical-align: top;\n",
       "    }\n",
       "\n",
       "    .dataframe thead th {\n",
       "        text-align: right;\n",
       "    }\n",
       "</style>\n",
       "<table border=\"1\" class=\"dataframe\">\n",
       "  <thead>\n",
       "    <tr style=\"text-align: right;\">\n",
       "      <th></th>\n",
       "      <th>Description</th>\n",
       "      <th>Recommended Recipes</th>\n",
       "    </tr>\n",
       "  </thead>\n",
       "  <tbody>\n",
       "    <tr>\n",
       "      <th>0</th>\n",
       "      <td>pork green beans rice</td>\n",
       "      <td>[Green Beans, Grilled Green Beans, Grilled Fresh Green Beans, Honey Orange Green Beans, Lucy's Recuperation Food]</td>\n",
       "    </tr>\n",
       "    <tr>\n",
       "      <th>1</th>\n",
       "      <td>tofu asparagus noodles</td>\n",
       "      <td>[Balsamic Vinegar Tofu and Asparagus Pasta Salad, Fast and Easy Tofu Lo-Mein, Vegan Lasagna I, Baked Tofu, Roasted Asparagus Salad with Feta Cheese]</td>\n",
       "    </tr>\n",
       "    <tr>\n",
       "      <th>2</th>\n",
       "      <td>chicken mushrooms quinoa</td>\n",
       "      <td>[Chicken With Mushrooms, Balsamic Chicken Salad, Quinoa Chicken, Chicken Perkelt, Muenster Chicken and Mushrooms]</td>\n",
       "    </tr>\n",
       "    <tr>\n",
       "      <th>3</th>\n",
       "      <td>salmon cabbage rice noodles</td>\n",
       "      <td>[Fried Cabbage and Egg Noodles, Smoked Salmon Sushi Roll, Salmon and Pesto with Rice, Transylvanian Cabbage and Noodles, Fried Cabbage and Noodles]</td>\n",
       "    </tr>\n",
       "    <tr>\n",
       "      <th>4</th>\n",
       "      <td>beef carrots rice</td>\n",
       "      <td>[Confetti Rice with Carrot, Celery, and Almonds, Raven's Beef Stew, Ground Beef and Rice with Cheese, Golompke (Beef and Cabbage Casserole), Spicy American Spanish Rice]</td>\n",
       "    </tr>\n",
       "    <tr>\n",
       "      <th>...</th>\n",
       "      <td>...</td>\n",
       "      <td>...</td>\n",
       "    </tr>\n",
       "    <tr>\n",
       "      <th>195</th>\n",
       "      <td>turkey cabbage brown rice</td>\n",
       "      <td>[Aunt Wanda's Turkey Carcass Soup, Aunt Wanda's Turkey Carcass Soup, Mango-Lime Rice, Stuffed Cabbage/Golabki, Avocado Sushi with Brown Rice]</td>\n",
       "    </tr>\n",
       "    <tr>\n",
       "      <th>196</th>\n",
       "      <td>chicken tomatoes quinoa</td>\n",
       "      <td>[Tomato and Spinach Quinoa Skillet, Quinoa Chicken, Cold Chicken Quinoa Avocado Salad, Italian Quinoa Salad, Spicy Chicken Quinoa]</td>\n",
       "    </tr>\n",
       "    <tr>\n",
       "      <th>197</th>\n",
       "      <td>salmon green beans rice</td>\n",
       "      <td>[Green Beans, Grilled Green Beans, Grilled Fresh Green Beans, Honey Orange Green Beans, Lucy's Recuperation Food]</td>\n",
       "    </tr>\n",
       "    <tr>\n",
       "      <th>198</th>\n",
       "      <td>beef asparagus noodles</td>\n",
       "      <td>[One-Dish Beef Stroganoff and Noodles, Asparagus Beef Bundles, Carol's Chow Mein Noodle Casserole, Ground Beef Curly Noodle, Beef Tips and Noodles]</td>\n",
       "    </tr>\n",
       "    <tr>\n",
       "      <th>199</th>\n",
       "      <td>shrimp carrots cauliflower</td>\n",
       "      <td>[Mashed Cauliflower and Carrots, Shrimp Gabriella, FROGHOPPER's Candied Ginger Carrots, Carrots ala Camille, Honey Orange Firecracker Shrimp]</td>\n",
       "    </tr>\n",
       "  </tbody>\n",
       "</table>\n",
       "<p>200 rows × 2 columns</p>\n",
       "</div>"
      ],
      "text/plain": [
       "                     Description  \\\n",
       "0          pork green beans rice   \n",
       "1         tofu asparagus noodles   \n",
       "2       chicken mushrooms quinoa   \n",
       "3    salmon cabbage rice noodles   \n",
       "4              beef carrots rice   \n",
       "..                           ...   \n",
       "195    turkey cabbage brown rice   \n",
       "196      chicken tomatoes quinoa   \n",
       "197      salmon green beans rice   \n",
       "198       beef asparagus noodles   \n",
       "199   shrimp carrots cauliflower   \n",
       "\n",
       "                                                                                                                                                           Recommended Recipes  \n",
       "0                                                            [Green Beans, Grilled Green Beans, Grilled Fresh Green Beans, Honey Orange Green Beans, Lucy's Recuperation Food]  \n",
       "1                         [Balsamic Vinegar Tofu and Asparagus Pasta Salad, Fast and Easy Tofu Lo-Mein, Vegan Lasagna I, Baked Tofu, Roasted Asparagus Salad with Feta Cheese]  \n",
       "2                                                            [Chicken With Mushrooms, Balsamic Chicken Salad, Quinoa Chicken, Chicken Perkelt, Muenster Chicken and Mushrooms]  \n",
       "3                          [Fried Cabbage and Egg Noodles, Smoked Salmon Sushi Roll, Salmon and Pesto with Rice, Transylvanian Cabbage and Noodles, Fried Cabbage and Noodles]  \n",
       "4    [Confetti Rice with Carrot, Celery, and Almonds, Raven's Beef Stew, Ground Beef and Rice with Cheese, Golompke (Beef and Cabbage Casserole), Spicy American Spanish Rice]  \n",
       "..                                                                                                                                                                         ...  \n",
       "195                              [Aunt Wanda's Turkey Carcass Soup, Aunt Wanda's Turkey Carcass Soup, Mango-Lime Rice, Stuffed Cabbage/Golabki, Avocado Sushi with Brown Rice]  \n",
       "196                                         [Tomato and Spinach Quinoa Skillet, Quinoa Chicken, Cold Chicken Quinoa Avocado Salad, Italian Quinoa Salad, Spicy Chicken Quinoa]  \n",
       "197                                                          [Green Beans, Grilled Green Beans, Grilled Fresh Green Beans, Honey Orange Green Beans, Lucy's Recuperation Food]  \n",
       "198                        [One-Dish Beef Stroganoff and Noodles, Asparagus Beef Bundles, Carol's Chow Mein Noodle Casserole, Ground Beef Curly Noodle, Beef Tips and Noodles]  \n",
       "199                              [Mashed Cauliflower and Carrots, Shrimp Gabriella, FROGHOPPER's Candied Ginger Carrots, Carrots ala Camille, Honey Orange Firecracker Shrimp]  \n",
       "\n",
       "[200 rows x 2 columns]"
      ]
     },
     "execution_count": 19,
     "metadata": {},
     "output_type": "execute_result"
    }
   ],
   "source": [
    "df = pd.DataFrame(test_results, columns=['Description', 'Recommended Recipes'])\n",
    "\n",
    "df.head(200)"
   ]
  }
 ],
 "metadata": {
  "kernelspec": {
   "display_name": "base",
   "language": "python",
   "name": "python3"
  },
  "language_info": {
   "codemirror_mode": {
    "name": "ipython",
    "version": 3
   },
   "file_extension": ".py",
   "mimetype": "text/x-python",
   "name": "python",
   "nbconvert_exporter": "python",
   "pygments_lexer": "ipython3",
   "version": "3.11.4"
  }
 },
 "nbformat": 4,
 "nbformat_minor": 2
}
